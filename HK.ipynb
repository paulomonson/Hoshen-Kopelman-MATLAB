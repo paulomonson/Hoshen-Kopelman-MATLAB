{
  "nbformat": 4,
  "nbformat_minor": 0,
  "metadata": {
    "colab": {
      "provenance": []
    },
    "kernelspec": {
      "name": "python3",
      "display_name": "Python 3"
    },
    "language_info": {
      "name": "python"
    }
  },
  "cells": [
    {
      "cell_type": "code",
      "execution_count": 1,
      "metadata": {
        "id": "kul2Ut5-ps64"
      },
      "outputs": [],
      "source": [
        "import numpy as np\n",
        "np.set_printoptions(threshold=np.inf)\n",
        "import matplotlib.pyplot as plt\n",
        "\n",
        "from queue import Queue"
      ]
    },
    {
      "cell_type": "code",
      "source": [
        "a = np.array([\n",
        "  [1, 0, 0, 0, 1],\n",
        "  [1, 0, 1, 0, 0],\n",
        "  [0, 1, 1, 1, 1],\n",
        "  [1, 1, 0, 1, 1],\n",
        "  [1, 1, 1, 1, 1]\n",
        "])"
      ],
      "metadata": {
        "id": "DDNSKP8OpwkQ"
      },
      "execution_count": 2,
      "outputs": []
    },
    {
      "cell_type": "code",
      "source": [
        "def hk(matrix, initialLabel):\n",
        "    \n",
        "    # Cria uma matriz auxiliar para armazenar os rótulos temporários\n",
        "    # Inicializa uma matriz de zeros para armazenar os rótulos temporários\n",
        "    # e atribui o rótulo inicial. Inicialmente pensado para atender a estratégia\n",
        "    # de rotulagem da imagem (e), utilizando um threshold para segmentar a região \n",
        "    # de interesse e alterando o rótulo inicial de modo a não conflitar com as\n",
        "    # regiões rotuladas previamente.\n",
        "\n",
        "    labels = np.zeros_like(matrix)\n",
        "    label = initialLabel\n",
        "\n",
        "    # Criação da lista de vizinhos conforme o exercício (8-vizinhos)\n",
        "    neighbors = [(-1, -1), (-1, 0), (-1, 1), (0, -1), (0, 1), (1, -1), (1, 0), (1, 1)]\n",
        "\n",
        "\n",
        "    # Percorre a matriz, linha por linha.\n",
        "    for i in range(matrix.shape[0]):\n",
        "        for j in range(matrix.shape[1]):\n",
        "            \n",
        "            # Ignora elementos com valor zero.\n",
        "            if matrix[i, j] == 0:\n",
        "                continue\n",
        "\n",
        "            # Verifica se existe um rótulo atribuido para aquele ponto\n",
        "            if labels[i, j] != 0:\n",
        "                continue\n",
        "\n",
        "            # Inicializa a queue e adiciona o ponto de interesse na fila, atribuindo \n",
        "            # o rótulo inicial determinado anteriormente.\n",
        "\n",
        "            q = Queue()\n",
        "            q.put((i, j))\n",
        "            labels[i, j] = label\n",
        "\n",
        "            while not q.empty():\n",
        "                r, c = q.get()\n",
        "\n",
        "                # Percorre os vizinhos do elemento atual.\n",
        "                for dr, dc in neighbors:\n",
        "                    nr, nc = r + dr, c + dc\n",
        "\n",
        "                    # Verifica se o vizinho está dentro dos limites da matriz.\n",
        "                    if nr < 0 or nc < 0 or nr >= matrix.shape[0] or nc >= matrix.shape[1]:\n",
        "                        continue\n",
        "\n",
        "                    # Verifica se o vizinho já foi rotulado ou não pertence à região conectada atual.\n",
        "                    if labels[nr, nc] != 0 or matrix[nr, nc] == 0:\n",
        "                        continue\n",
        "\n",
        "                    # Rotula o vizinho e adiciona na fila para ser processado posteriormente.\n",
        "                    labels[nr, nc] = label\n",
        "                    q.put((nr, nc))\n",
        "\n",
        "            # Incrementa o rótulo para a próxima região conectada.\n",
        "            label += 1\n",
        "\n",
        "    return labels"
      ],
      "metadata": {
        "id": "tzd54mC2pz4A"
      },
      "execution_count": 3,
      "outputs": []
    },
    {
      "cell_type": "code",
      "source": [
        "hk(a, 1)"
      ],
      "metadata": {
        "colab": {
          "base_uri": "https://localhost:8080/"
        },
        "id": "kHBD8TmHrJj9",
        "outputId": "fe7755c8-ea99-42ef-9a41-ff7601d76ff3"
      },
      "execution_count": 4,
      "outputs": [
        {
          "output_type": "execute_result",
          "data": {
            "text/plain": [
              "array([[1, 0, 0, 0, 2],\n",
              "       [1, 0, 1, 0, 0],\n",
              "       [0, 1, 1, 1, 1],\n",
              "       [1, 1, 0, 1, 1],\n",
              "       [1, 1, 1, 1, 1]])"
            ]
          },
          "metadata": {},
          "execution_count": 4
        }
      ]
    },
    {
      "cell_type": "code",
      "source": [
        "labels = hk(a, 1)"
      ],
      "metadata": {
        "id": "vAO-CqZEzZNK"
      },
      "execution_count": 5,
      "outputs": []
    },
    {
      "cell_type": "code",
      "source": [
        "clusters, elements = np.unique(labels, return_counts=True)\n",
        "\n",
        "# Ignora o rótulo 0 (background)\n",
        "clusters, elements = clusters[1:], elements[1:] \n",
        "print(f\"Clusters encontrados: {len(clusters)}\")\n",
        "\n",
        "for cluster, element in zip(clusters, elements):\n",
        "    print(f\"Cluster {cluster}. Caminhos conexos {element}\")"
      ],
      "metadata": {
        "colab": {
          "base_uri": "https://localhost:8080/"
        },
        "id": "0WteNjQFz7tB",
        "outputId": "fec7815a-5da9-4644-eff1-4acd2b6651fb"
      },
      "execution_count": 6,
      "outputs": [
        {
          "output_type": "stream",
          "name": "stdout",
          "text": [
            "Clusters encontrados: 2\n",
            "Cluster 1. Caminhos conexos 16\n",
            "Cluster 2. Caminhos conexos 1\n"
          ]
        }
      ]
    },
    {
      "cell_type": "code",
      "source": [
        "color = 1\n",
        "\n",
        "array1 = np.zeros((256,256))\n",
        "array2 = np.zeros((256,256))\n",
        "array3 = np.zeros((256,256))\n",
        "array4 = np.zeros((256,256))\n",
        "array5 = np.zeros((256,256))\n",
        "array6 = np.zeros((256,256))\n",
        "array7 = np.zeros((256,256))\n",
        "array8 = np.zeros((256,256))\n",
        "array9 = np.zeros((256,256))\n",
        "array10 = np.zeros((256,256))\n",
        "array11 = np.zeros((256,256))\n",
        "array12 = np.zeros((256,256))\n",
        "array13 = np.zeros((256,256))\n",
        "array14 = np.zeros((256,256))\n",
        "array15 = np.zeros((256,256))\n",
        "array16 = np.zeros((256,256))\n",
        "\n",
        "\n",
        "for x in range(64):\n",
        "    for y in range(64):\n",
        "        array1[x][y] = 1\n",
        "color += 8\n",
        "for x in range(64):\n",
        "    for y in range(64):\n",
        "        array2[x+64][y] = 1\n",
        "color += 8\n",
        "for x in range(64):\n",
        "    for y in range(64):\n",
        "        array3[x+128][y] = 1\n",
        "color += 8\n",
        "for x in range(64):\n",
        "    for y in range(64):\n",
        "        array4[x+192][y] = 1\n",
        "# linha 2\n",
        "color += 8\n",
        "for x in range(64):\n",
        "    for y in range(64):\n",
        "        array5[x][y+64] = 1\n",
        "color += 8\n",
        "for x in range(64):\n",
        "    for y in range(64):\n",
        "        array6[x+64][y+64] = 1\n",
        "color += 8\n",
        "for x in range(64):\n",
        "    for y in range(64):\n",
        "        array7[x+128][y+64] = 1\n",
        "color += 8\n",
        "for x in range(64):\n",
        "    for y in range(64):\n",
        "        array8[x+192][y+64] = 1\n",
        "# linha 3\n",
        "color += 8\n",
        "for x in range(64):\n",
        "    for y in range(64):\n",
        "        array9[x][y+128] = 1\n",
        "color += 8\n",
        "for x in range(64):\n",
        "    for y in range(64):\n",
        "        array10[x+64][y+128] = 1\n",
        "color += 8\n",
        "for x in range(64):\n",
        "    for y in range(64):\n",
        "        array11[x+128][y+128] = 1\n",
        "color += 8\n",
        "for x in range(64):\n",
        "    for y in range(64):\n",
        "        array12[x+192][y+128] = 1\n",
        "# linha 4\n",
        "color += 8\n",
        "for x in range(64):\n",
        "    for y in range(64):\n",
        "        array13[x][y+192] = 1\n",
        "color += 8\n",
        "for x in range(64):\n",
        "    for y in range(64):\n",
        "        array14[x+64][y+192] = 1\n",
        "color += 8\n",
        "for x in range(64):\n",
        "    for y in range(64):\n",
        "        array15[x+128][y+192] = 1\n",
        "color += 8\n",
        "for x in range(64):\n",
        "    for y in range(64):\n",
        "        array16[x+192][y+192] = 1"
      ],
      "metadata": {
        "id": "fBMqpBlocmGR"
      },
      "execution_count": 7,
      "outputs": []
    },
    {
      "cell_type": "code",
      "source": [
        "n = np.stack((array1, array2, array3, array4, array5,\n",
        "              array6, array7, array8, array9, array10,\n",
        "              array11, array12, array13, array14, array15,\n",
        "              array16), axis=2)"
      ],
      "metadata": {
        "id": "puLQ09jhcBG9"
      },
      "execution_count": 8,
      "outputs": []
    },
    {
      "cell_type": "code",
      "source": [
        "n.shape"
      ],
      "metadata": {
        "colab": {
          "base_uri": "https://localhost:8080/"
        },
        "id": "HaLGQbZCcM5_",
        "outputId": "b0d1aa64-1cf0-4e63-b00a-269bc41e78ac"
      },
      "execution_count": 9,
      "outputs": [
        {
          "output_type": "execute_result",
          "data": {
            "text/plain": [
              "(256, 256, 16)"
            ]
          },
          "metadata": {},
          "execution_count": 9
        }
      ]
    },
    {
      "cell_type": "code",
      "source": [
        "allLabels = np.zeros((256, 256))\n",
        "\n",
        "for i in range(16):\n",
        "  \n",
        "  labels = hk(n[:, :, i], i+1)\n",
        "  allLabels = labels + allLabels"
      ],
      "metadata": {
        "id": "gBvVgGGychV0"
      },
      "execution_count": 10,
      "outputs": []
    },
    {
      "cell_type": "code",
      "source": [
        "clusters, elements = np.unique(allLabels, return_counts=True)\n",
        "\n",
        "# Ignora o rótulo 0 (background)\n",
        "clusters, elements = clusters, elements \n",
        "print(f\"Clusters encontrados: {len(clusters)}\")\n",
        "\n",
        "for cluster, element in zip(clusters, elements):\n",
        "    print(f\"Cluster {cluster}. Caminhos conexos {element}\")"
      ],
      "metadata": {
        "colab": {
          "base_uri": "https://localhost:8080/"
        },
        "id": "J6wukGqd7W26",
        "outputId": "116c67c5-6626-47c0-f50b-20cdc2659aeb"
      },
      "execution_count": 11,
      "outputs": [
        {
          "output_type": "stream",
          "name": "stdout",
          "text": [
            "Clusters encontrados: 16\n",
            "Cluster 1.0. Caminhos conexos 4096\n",
            "Cluster 2.0. Caminhos conexos 4096\n",
            "Cluster 3.0. Caminhos conexos 4096\n",
            "Cluster 4.0. Caminhos conexos 4096\n",
            "Cluster 5.0. Caminhos conexos 4096\n",
            "Cluster 6.0. Caminhos conexos 4096\n",
            "Cluster 7.0. Caminhos conexos 4096\n",
            "Cluster 8.0. Caminhos conexos 4096\n",
            "Cluster 9.0. Caminhos conexos 4096\n",
            "Cluster 10.0. Caminhos conexos 4096\n",
            "Cluster 11.0. Caminhos conexos 4096\n",
            "Cluster 12.0. Caminhos conexos 4096\n",
            "Cluster 13.0. Caminhos conexos 4096\n",
            "Cluster 14.0. Caminhos conexos 4096\n",
            "Cluster 15.0. Caminhos conexos 4096\n",
            "Cluster 16.0. Caminhos conexos 4096\n"
          ]
        }
      ]
    },
    {
      "cell_type": "code",
      "source": [
        "plt.figure(figsize=(10,10))\n",
        "plt.imshow(allLabels)\n",
        "plt.show()"
      ],
      "metadata": {
        "colab": {
          "base_uri": "https://localhost:8080/",
          "height": 594
        },
        "id": "mFsuWaaOfWcw",
        "outputId": "e389eec5-26c5-4a50-d48f-2186cfc10b57"
      },
      "execution_count": 12,
      "outputs": [
        {
          "output_type": "display_data",
          "data": {
            "text/plain": [
              "<Figure size 720x720 with 1 Axes>"
            ],
            "image/png": "[encoded data removed]"
          },
          "metadata": {
            "needs_background": "light"
          }
        }
      ]
    }
  ]
}